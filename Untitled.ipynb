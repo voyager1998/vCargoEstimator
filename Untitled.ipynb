{
 "metadata": {
  "language_info": {
   "codemirror_mode": {
    "name": "ipython",
    "version": 3
   },
   "file_extension": ".py",
   "mimetype": "text/x-python",
   "name": "python",
   "nbconvert_exporter": "python",
   "pygments_lexer": "ipython3",
   "version": "3.7.4-final"
  },
  "orig_nbformat": 2,
  "kernelspec": {
   "name": "python37464bitvenvvirtualenva8557e0f734340eea0e9cdd168f5928d",
   "display_name": "Python 3.7.4 64-bit ('venv': virtualenv)"
  }
 },
 "nbformat": 4,
 "nbformat_minor": 2,
 "cells": [
  {
   "cell_type": "code",
   "execution_count": 3,
   "metadata": {
    "tags": []
   },
   "outputs": [
    {
     "output_type": "stream",
     "name": "stdout",
     "text": "(480, 640)\n(640, 480)\n480\n640\n(480, 640, 3)\n"
    }
   ],
   "source": [
    "import cv2\n",
    "import numpy as np\n",
    "filepath = '/Users/quyuyi/gitProjects/vCargoEstimator/data/calibration0720/stereoCalibrationMain/rgb2/RBG_0.png'\n",
    "img_rgb = cv2.imread(filepath)\n",
    "gray_rgb = cv2.cvtColor(img_rgb, cv2.COLOR_BGR2GRAY)\n",
    "print(gray_rgb.shape)\n",
    "print(gray_rgb.shape[::-1])\n",
    "h,w = gray_rgb.shape[:2]\n",
    "print(h)\n",
    "print(w)\n",
    "\n",
    "img = np.zeros((480,640, 3), np.float32)\n",
    "print(img.shape)\n"
   ]
  },
  {
   "cell_type": "code",
   "execution_count": 12,
   "metadata": {
    "tags": []
   },
   "outputs": [
    {
     "output_type": "stream",
     "name": "stdout",
     "text": "(480, 640, 3)\n(480, 100, 3)\n"
    }
   ],
   "source": [
    "# print(img_rgb[:100][:100])\n",
    "print(img_rgb.shape)\n",
    "# cv2.imshow('img', img_rgb)\n",
    "roi = img_rgb[0:100,0:100,:]\n",
    "roi = img_rgb[:,0:100]\n",
    "print(roi.shape)\n",
    "# cv2.imshow('roi',roi)\n",
    "# cv2.waitKey(0)\n",
    "# cv2.destroyAllWindows()"
   ]
  },
  {
   "cell_type": "code",
   "execution_count": 30,
   "metadata": {
    "tags": []
   },
   "outputs": [],
   "source": [
    "import numpy as np\n",
    "a = [[1,2],[3,4],[5,6]]\n",
    "a = np.array(a)\n",
    "b = [[-1,2],[3,4],[5,6]]\n",
    "b = np.array(b)\n",
    "# np.savetxt('test.txt', a) # save in txt file\n",
    "np.savez('test.npz', a=a, b=b)"
   ]
  },
  {
   "cell_type": "code",
   "execution_count": 38,
   "metadata": {
    "tags": []
   },
   "outputs": [
    {
     "output_type": "stream",
     "name": "stdout",
     "text": "['c']\n"
    }
   ],
   "source": [
    "c=a\n",
    "np.savez('test.npz', c=c)\n",
    "data = np.load('test.npz')\n",
    "print(data.files)"
   ]
  },
  {
   "cell_type": "code",
   "execution_count": 45,
   "metadata": {
    "tags": []
   },
   "outputs": [
    {
     "output_type": "stream",
     "name": "stdout",
     "text": "{'a': array([[1, 2],\n       [3, 4],\n       [5, 6]]), 'b': array([[-1,  2],\n       [ 3,  4],\n       [ 5,  6]])}\n"
    }
   ],
   "source": [
    "d = {'a':a,'b':b}\n",
    "print(d)"
   ]
  }
 ]
}